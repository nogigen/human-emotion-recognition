{
 "cells": [
  {
   "cell_type": "code",
   "execution_count": 2,
   "metadata": {},
   "outputs": [
    {
     "data": {
      "image/png": "[encoded data removed]",
      "text/plain": [
       "<Figure size 144x144 with 1 Axes>"
      ]
     },
     "metadata": {},
     "output_type": "display_data"
    },
    {
     "name": "stdout",
     "output_type": "stream",
     "text": [
      "[[ 72  78  81 ...  52  43  40]\n",
      " [ 65  62  59 ...  55  52  45]\n",
      " [ 47  42  60 ...  47  54  49]\n",
      " ...\n",
      " [ 91  65  46 ...  74  54  43]\n",
      " [ 76  80  76 ... 108  69  46]\n",
      " [ 77  74  81 ... 105 108  82]]\n"
     ]
    }
   ],
   "source": [
    "import numpy as np\n",
    "import matplotlib.pyplot as plt\n",
    "import os\n",
    "import cv2\n",
    "\n",
    "os.environ[\"TF_CPP_MIN_LOG_LEVEL\"]=\"3\"\n",
    "base_path = \"./images/images/\"\n",
    "pic_size = 48\n",
    "\n",
    "i = 0\n",
    "plt.figure(0, figsize=(2,2))\n",
    "for expression in os.listdir(base_path + \"train/\"):    \n",
    "    img = cv2.imread(base_path + \"train/\" + expression + \"/\" + os.listdir(base_path + \"train/\" + expression)[i], cv2.IMREAD_GRAYSCALE)\n",
    "    plt.imshow(img, cmap=\"gray\")\n",
    "    break\n",
    "plt.show() \n",
    "print(img)"
   ]
  },
  {
   "cell_type": "code",
   "execution_count": 3,
   "metadata": {},
   "outputs": [
    {
     "name": "stdout",
     "output_type": "stream",
     "text": [
      "angry\n",
      "disgust\n",
      "fear\n",
      "happy\n",
      "neutral\n",
      "sad\n",
      "surprise\n",
      "28821\n"
     ]
    }
   ],
   "source": [
    "training_data = []\n",
    "categories = [\"angry\", \"disgust\", \"fear\", \"happy\", \"neutral\", \"sad\", \"surprise\" ]\n",
    "def create_training_data():\n",
    "    for category in categories:\n",
    "        print(category)\n",
    "        path = base_path + \"train/\"\n",
    "        path = os.path.join(path,category)\n",
    "        for img in os.listdir(path):\n",
    "            img_array = cv2.imread(os.path.join(path,img) ,cv2.IMREAD_GRAYSCALE)  # convert to array\n",
    "            training_data.append([img_array, categories.index(category)])  # add this to our training_data            \n",
    "\n",
    "create_training_data()\n",
    "print(len(training_data))"
   ]
  },
  {
   "cell_type": "code",
   "execution_count": 4,
   "metadata": {},
   "outputs": [
    {
     "name": "stdout",
     "output_type": "stream",
     "text": [
      "0\n",
      "0\n",
      "0\n",
      "0\n",
      "0\n",
      "0\n",
      "0\n",
      "0\n",
      "0\n",
      "0\n"
     ]
    }
   ],
   "source": [
    "for i in range(10):\n",
    "    print(training_data[i][1])"
   ]
  },
  {
   "cell_type": "code",
   "execution_count": 29,
   "metadata": {},
   "outputs": [],
   "source": [
    "# train x and train y lists.\n",
    "train_X = []\n",
    "train_y = []"
   ]
  },
  {
   "cell_type": "code",
   "execution_count": 30,
   "metadata": {},
   "outputs": [],
   "source": [
    "for features, label in training_data:\n",
    "    train_X.append(features)\n",
    "    train_y.append(label)\n",
    "train_X = np.array(train_X).reshape(-1, pic_size, pic_size, 1)\n",
    "train_y = np.array(train_y)"
   ]
  },
  {
   "cell_type": "code",
   "execution_count": 31,
   "metadata": {},
   "outputs": [
    {
     "name": "stdout",
     "output_type": "stream",
     "text": [
      "[[[ 72]\n",
      "  [ 78]\n",
      "  [ 81]\n",
      "  ...\n",
      "  [ 52]\n",
      "  [ 43]\n",
      "  [ 40]]\n",
      "\n",
      " [[ 65]\n",
      "  [ 62]\n",
      "  [ 59]\n",
      "  ...\n",
      "  [ 55]\n",
      "  [ 52]\n",
      "  [ 45]]\n",
      "\n",
      " [[ 47]\n",
      "  [ 42]\n",
      "  [ 60]\n",
      "  ...\n",
      "  [ 47]\n",
      "  [ 54]\n",
      "  [ 49]]\n",
      "\n",
      " ...\n",
      "\n",
      " [[ 91]\n",
      "  [ 65]\n",
      "  [ 46]\n",
      "  ...\n",
      "  [ 74]\n",
      "  [ 54]\n",
      "  [ 43]]\n",
      "\n",
      " [[ 76]\n",
      "  [ 80]\n",
      "  [ 76]\n",
      "  ...\n",
      "  [108]\n",
      "  [ 69]\n",
      "  [ 46]]\n",
      "\n",
      " [[ 77]\n",
      "  [ 74]\n",
      "  [ 81]\n",
      "  ...\n",
      "  [105]\n",
      "  [108]\n",
      "  [ 82]]]\n",
      "0\n",
      "[[[152]\n",
      "  [149]\n",
      "  [147]\n",
      "  ...\n",
      "  [129]\n",
      "  [139]\n",
      "  [121]]\n",
      "\n",
      " [[149]\n",
      "  [152]\n",
      "  [150]\n",
      "  ...\n",
      "  [121]\n",
      "  [146]\n",
      "  [135]]\n",
      "\n",
      " [[152]\n",
      "  [152]\n",
      "  [157]\n",
      "  ...\n",
      "  [112]\n",
      "  [121]\n",
      "  [145]]\n",
      "\n",
      " ...\n",
      "\n",
      " [[187]\n",
      "  [189]\n",
      "  [120]\n",
      "  ...\n",
      "  [184]\n",
      "  [185]\n",
      "  [188]]\n",
      "\n",
      " [[188]\n",
      "  [189]\n",
      "  [193]\n",
      "  ...\n",
      "  [185]\n",
      "  [181]\n",
      "  [189]]\n",
      "\n",
      " [[186]\n",
      "  [185]\n",
      "  [183]\n",
      "  ...\n",
      "  [193]\n",
      "  [181]\n",
      "  [183]]]\n",
      "0\n",
      "[[[ 29]\n",
      "  [ 25]\n",
      "  [ 21]\n",
      "  ...\n",
      "  [ 38]\n",
      "  [ 45]\n",
      "  [ 37]]\n",
      "\n",
      " [[ 31]\n",
      "  [ 24]\n",
      "  [ 20]\n",
      "  ...\n",
      "  [ 36]\n",
      "  [ 36]\n",
      "  [ 40]]\n",
      "\n",
      " [[ 28]\n",
      "  [ 21]\n",
      "  [ 21]\n",
      "  ...\n",
      "  [ 35]\n",
      "  [ 32]\n",
      "  [ 40]]\n",
      "\n",
      " ...\n",
      "\n",
      " [[ 28]\n",
      "  [ 29]\n",
      "  [ 26]\n",
      "  ...\n",
      "  [118]\n",
      "  [137]\n",
      "  [148]]\n",
      "\n",
      " [[ 30]\n",
      "  [ 30]\n",
      "  [ 26]\n",
      "  ...\n",
      "  [151]\n",
      "  [158]\n",
      "  [164]]\n",
      "\n",
      " [[ 32]\n",
      "  [ 30]\n",
      "  [ 27]\n",
      "  ...\n",
      "  [174]\n",
      "  [173]\n",
      "  [174]]]\n",
      "0\n"
     ]
    }
   ],
   "source": [
    "for i in range(3):\n",
    "    print(train_X[i])\n",
    "    print(train_y[i])"
   ]
  },
  {
   "cell_type": "code",
   "execution_count": 32,
   "metadata": {},
   "outputs": [],
   "source": [
    "import pickle\n",
    "pickle_out = open(\"train_X.pickle\" , \"wb\")\n",
    "pickle.dump(train_X, pickle_out)\n",
    "pickle_out.close()\n",
    "\n",
    "pickle_out = open(\"train_y.pickle\" , \"wb\")\n",
    "pickle.dump(train_y, pickle_out)\n",
    "pickle_out.close()"
   ]
  },
  {
   "cell_type": "code",
   "execution_count": 20,
   "metadata": {},
   "outputs": [
    {
     "name": "stdout",
     "output_type": "stream",
     "text": [
      "[[[152]\n",
      "  [149]\n",
      "  [147]\n",
      "  ...\n",
      "  [129]\n",
      "  [139]\n",
      "  [121]]\n",
      "\n",
      " [[149]\n",
      "  [152]\n",
      "  [150]\n",
      "  ...\n",
      "  [121]\n",
      "  [146]\n",
      "  [135]]\n",
      "\n",
      " [[152]\n",
      "  [152]\n",
      "  [157]\n",
      "  ...\n",
      "  [112]\n",
      "  [121]\n",
      "  [145]]\n",
      "\n",
      " ...\n",
      "\n",
      " [[187]\n",
      "  [189]\n",
      "  [120]\n",
      "  ...\n",
      "  [184]\n",
      "  [185]\n",
      "  [188]]\n",
      "\n",
      " [[188]\n",
      "  [189]\n",
      "  [193]\n",
      "  ...\n",
      "  [185]\n",
      "  [181]\n",
      "  [189]]\n",
      "\n",
      " [[186]\n",
      "  [185]\n",
      "  [183]\n",
      "  ...\n",
      "  [193]\n",
      "  [181]\n",
      "  [183]]]\n"
     ]
    }
   ],
   "source": [
    "pickle_in = open(\"train_X.pickle\", \"rb\")\n",
    "train_X = pickle.load(pickle_in)\n",
    "print(train_X[1])"
   ]
  },
  {
   "cell_type": "code",
   "execution_count": 33,
   "metadata": {},
   "outputs": [],
   "source": [
    "pickle_in = open(\"train_y.pickle\", \"rb\")\n",
    "train_y = pickle.load(pickle_in)"
   ]
  },
  {
   "cell_type": "code",
   "execution_count": 34,
   "metadata": {},
   "outputs": [
    {
     "name": "stdout",
     "output_type": "stream",
     "text": [
      "angry\n",
      "disgust\n",
      "fear\n",
      "happy\n",
      "neutral\n",
      "sad\n",
      "surprise\n",
      "7066\n"
     ]
    }
   ],
   "source": [
    "validation_data = []\n",
    "def create_validation_data():    \n",
    "    for category in categories:\n",
    "        print(category)\n",
    "        path = base_path + \"validation/\"\n",
    "        path = os.path.join(path,category)\n",
    "        for img in os.listdir(path):\n",
    "            img_array = cv2.imread(os.path.join(path,img) ,cv2.IMREAD_GRAYSCALE)  # convert to array\n",
    "            validation_data.append([img_array, categories.index(category)])  # add this to our training_data            \n",
    "\n",
    "create_validation_data()\n",
    "print(len(validation_data))\n",
    "    "
   ]
  },
  {
   "cell_type": "code",
   "execution_count": 23,
   "metadata": {},
   "outputs": [],
   "source": [
    "# test x and test y lists.\n",
    "test_X = []\n",
    "test_y = []"
   ]
  },
  {
   "cell_type": "code",
   "execution_count": 24,
   "metadata": {},
   "outputs": [],
   "source": [
    "for features, label in validation_data:\n",
    "    test_X.append(features)\n",
    "    test_y.append(label)\n",
    "test_X = np.array(test_X).reshape(-1, pic_size, pic_size, 1) \n",
    "test_y = np.array(test_y) "
   ]
  },
  {
   "cell_type": "code",
   "execution_count": 25,
   "metadata": {},
   "outputs": [],
   "source": [
    "import pickle\n",
    "pickle_out = open(\"test_X.pickle\" , \"wb\")\n",
    "pickle.dump(test_X, pickle_out)\n",
    "pickle_out.close()\n",
    "\n",
    "pickle_out = open(\"test_y.pickle\" , \"wb\")\n",
    "pickle.dump(test_y, pickle_out)\n",
    "pickle_out.close()"
   ]
  },
  {
   "cell_type": "code",
   "execution_count": 15,
   "metadata": {},
   "outputs": [
    {
     "name": "stdout",
     "output_type": "stream",
     "text": [
      "[[[ 23]\n",
      "  [ 26]\n",
      "  [ 21]\n",
      "  ...\n",
      "  [217]\n",
      "  [220]\n",
      "  [218]]\n",
      "\n",
      " [[ 25]\n",
      "  [ 36]\n",
      "  [ 16]\n",
      "  ...\n",
      "  [209]\n",
      "  [203]\n",
      "  [208]]\n",
      "\n",
      " [[ 30]\n",
      "  [ 28]\n",
      "  [ 11]\n",
      "  ...\n",
      "  [179]\n",
      "  [214]\n",
      "  [245]]\n",
      "\n",
      " ...\n",
      "\n",
      " [[ 48]\n",
      "  [ 43]\n",
      "  [ 55]\n",
      "  ...\n",
      "  [223]\n",
      "  [222]\n",
      "  [222]]\n",
      "\n",
      " [[ 36]\n",
      "  [ 20]\n",
      "  [ 64]\n",
      "  ...\n",
      "  [252]\n",
      "  [255]\n",
      "  [255]]\n",
      "\n",
      " [[ 59]\n",
      "  [ 56]\n",
      "  [ 46]\n",
      "  ...\n",
      "  [252]\n",
      "  [252]\n",
      "  [253]]]\n"
     ]
    }
   ],
   "source": [
    "pickle_in = open(\"test_X.pickle\", \"rb\")\n",
    "test_X = pickle.load(pickle_in)\n",
    "print(test_X[1])"
   ]
  },
  {
   "cell_type": "code",
   "execution_count": 26,
   "metadata": {},
   "outputs": [],
   "source": [
    "pickle_in = open(\"test_y.pickle\", \"rb\")\n",
    "test_y = pickle.load(pickle_in)"
   ]
  },
  {
   "cell_type": "code",
   "execution_count": 28,
   "metadata": {},
   "outputs": [
    {
     "ename": "ValueError",
     "evalue": "not enough values to unpack (expected 4, got 2)",
     "output_type": "error",
     "traceback": [
      "\u001b[1;31m---------------------------------------------------------------------------\u001b[0m",
      "\u001b[1;31mValueError\u001b[0m                                Traceback (most recent call last)",
      "\u001b[1;32m<ipython-input-28-6d17d140f4ea>\u001b[0m in \u001b[0;36m<module>\u001b[1;34m()\u001b[0m\n\u001b[1;32m----> 1\u001b[1;33m \u001b[0mnsamples\u001b[0m\u001b[1;33m,\u001b[0m \u001b[0mnx\u001b[0m\u001b[1;33m,\u001b[0m \u001b[0mny\u001b[0m\u001b[1;33m,\u001b[0m \u001b[0mnz\u001b[0m \u001b[1;33m=\u001b[0m \u001b[0mtrain_X\u001b[0m\u001b[1;33m.\u001b[0m\u001b[0mshape\u001b[0m\u001b[1;33m\u001b[0m\u001b[0m\n\u001b[0m\u001b[0;32m      2\u001b[0m \u001b[0mtrain_X\u001b[0m \u001b[1;33m=\u001b[0m \u001b[0mtrain_X\u001b[0m\u001b[1;33m.\u001b[0m\u001b[0mreshape\u001b[0m\u001b[1;33m(\u001b[0m\u001b[1;33m(\u001b[0m\u001b[0mnsamples\u001b[0m\u001b[1;33m,\u001b[0m\u001b[0mnx\u001b[0m\u001b[1;33m*\u001b[0m\u001b[0mny\u001b[0m\u001b[1;33m*\u001b[0m\u001b[0mnz\u001b[0m\u001b[1;33m)\u001b[0m\u001b[1;33m)\u001b[0m\u001b[1;33m\u001b[0m\u001b[0m\n\u001b[0;32m      3\u001b[0m \u001b[1;33m\u001b[0m\u001b[0m\n\u001b[0;32m      4\u001b[0m \u001b[0mnsamples\u001b[0m\u001b[1;33m,\u001b[0m \u001b[0mnx\u001b[0m\u001b[1;33m,\u001b[0m \u001b[0mny\u001b[0m\u001b[1;33m,\u001b[0m \u001b[0mnz\u001b[0m \u001b[1;33m=\u001b[0m \u001b[0mtest_X\u001b[0m\u001b[1;33m.\u001b[0m\u001b[0mshape\u001b[0m\u001b[1;33m\u001b[0m\u001b[0m\n\u001b[0;32m      5\u001b[0m \u001b[0mtest_X\u001b[0m \u001b[1;33m=\u001b[0m \u001b[0mtest_X\u001b[0m\u001b[1;33m.\u001b[0m\u001b[0mreshape\u001b[0m\u001b[1;33m(\u001b[0m\u001b[1;33m(\u001b[0m\u001b[0mnsamples\u001b[0m\u001b[1;33m,\u001b[0m\u001b[0mnx\u001b[0m\u001b[1;33m*\u001b[0m\u001b[0mny\u001b[0m\u001b[1;33m*\u001b[0m\u001b[0mnz\u001b[0m\u001b[1;33m)\u001b[0m\u001b[1;33m)\u001b[0m\u001b[1;33m\u001b[0m\u001b[0m\n",
      "\u001b[1;31mValueError\u001b[0m: not enough values to unpack (expected 4, got 2)"
     ]
    }
   ],
   "source": [
    "nsamples, nx, ny, nz = train_X.shape\n",
    "train_X = train_X.reshape((nsamples,nx*ny*nz))\n",
    "\n",
    "nsamples, nx, ny, nz = test_X.shape\n",
    "test_X = test_X.reshape((nsamples,nx*ny*nz))\n",
    "\n",
    "print(train_X.shape)\n",
    "print(test_X.shape)\n",
    "print(train_y.shape)"
   ]
  },
  {
   "cell_type": "code",
   "execution_count": null,
   "metadata": {},
   "outputs": [],
   "source": [
    "print(\"Dimension of Train set\",train_X.shape)\n",
    "print(\"Dimension of Test set\",test_X.shape,\"\\n\")\n",
    "\n",
    "# Transforming non numerical labels into numerical labels\n",
    "from sklearn import preprocessing\n",
    "encoder = preprocessing.LabelEncoder()\n",
    "\n",
    "# encoding train labels \n",
    "encoder.fit(Y_train_label)\n",
    "Y_train = encoder.transform(Y_train_label)\n",
    "\n",
    "# encoding test labels \n",
    "encoder.fit(Y_test_label)\n",
    "Y_test = encoder.transform(Y_test_label)\n",
    "\n",
    "#Total Number of Continous and Categorical features in the training set\n",
    "num_cols = X_train._get_numeric_data().columns\n",
    "print(\"Number of numeric features:\",num_cols.size)\n",
    "#list(set(X_train.columns) - set(num_cols))\n",
    "\n",
    "\n",
    "names_of_predictors = list(X_train.columns.values)\n",
    "\n",
    "# Scaling the Train and Test feature set \n",
    "from sklearn.preprocessing import StandardScaler\n",
    "scaler = StandardScaler()\n",
    "X_train_scaled = scaler.fit_transform(X_train)\n",
    "X_test_scaled = scaler.transform(X_test)"
   ]
  }
 ],
 "metadata": {
  "kernelspec": {
   "display_name": "Python 3",
   "language": "python",
   "name": "python3"
  },
  "language_info": {
   "codemirror_mode": {
    "name": "ipython",
    "version": 3
   },
   "file_extension": ".py",
   "mimetype": "text/x-python",
   "name": "python",
   "nbconvert_exporter": "python",
   "pygments_lexer": "ipython3",
   "version": "3.6.5"
  }
 },
 "nbformat": 4,
 "nbformat_minor": 2
}
